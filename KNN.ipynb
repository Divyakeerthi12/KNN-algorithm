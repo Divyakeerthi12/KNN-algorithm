{
 "cells": [
  {
   "cell_type": "code",
   "execution_count": 3,
   "metadata": {},
   "outputs": [
    {
     "name": "stdout",
     "output_type": "stream",
     "text": [
      "Iris Data set loaded\n",
      "Dataset is split into training and testing...\n",
      "Size of training data and its label (135, 4) (135,)\n",
      "Size of training data and its label (15, 4) (15,)\n",
      "Label 0 - setosa\n",
      "Label 1 - versicolor\n",
      "Label 2 - virginica\n",
      "Results of classification using K-nn with K=1\n",
      "Sample: [4.9 3.1 1.5 0.1] Actual Label: 0 Predicted label: 0\n",
      "Sample: [5.4 3.9 1.7 0.4] Actual Label: 0 Predicted label: 0\n",
      "Sample: [6.7 3.  5.  1.7] Actual Label: 1 Predicted label: 1\n",
      "Sample: [4.8 3.  1.4 0.3] Actual Label: 0 Predicted label: 0\n",
      "Sample: [5.9 3.2 4.8 1.8] Actual Label: 1 Predicted label: 2\n",
      "Sample: [4.8 3.  1.4 0.1] Actual Label: 0 Predicted label: 0\n",
      "Sample: [6.  2.7 5.1 1.6] Actual Label: 1 Predicted label: 2\n",
      "Sample: [4.6 3.4 1.4 0.3] Actual Label: 0 Predicted label: 0\n",
      "Sample: [6.  2.2 5.  1.5] Actual Label: 2 Predicted label: 1\n",
      "Sample: [5.5 2.3 4.  1.3] Actual Label: 1 Predicted label: 1\n",
      "Sample: [7.  3.2 4.7 1.4] Actual Label: 1 Predicted label: 1\n",
      "Sample: [6.3 2.7 4.9 1.8] Actual Label: 2 Predicted label: 2\n",
      "Sample: [6.4 2.8 5.6 2.2] Actual Label: 2 Predicted label: 2\n",
      "Sample: [6.  3.4 4.5 1.6] Actual Label: 1 Predicted label: 1\n",
      "Sample: [6.4 3.2 4.5 1.5] Actual Label: 1 Predicted label: 1\n",
      "Classification Accuracy: 0.8\n",
      "Confusion matrix\n",
      "[[5 0 0]\n",
      " [0 5 2]\n",
      " [0 1 2]]\n",
      "accuracy Metrics\n",
      "             precision    recall  f1-score   support\n",
      "\n",
      "          0       1.00      1.00      1.00         5\n",
      "          1       0.83      0.71      0.77         7\n",
      "          2       0.50      0.67      0.57         3\n",
      "\n",
      "avg / total       0.82      0.80      0.81        15\n",
      "\n",
      "correct prediction 0.8\n",
      "Wrong prediction 0.19999999999999996\n"
     ]
    }
   ],
   "source": [
    "#import the required packages\n",
    "from sklearn.model_selection import train_test_split\n",
    "from sklearn.neighbors import KNeighborsClassifier\n",
    "from sklearn import datasets\n",
    "#Load dataset\n",
    "iris=datasets.load_iris()\n",
    "print(\"Iris Data set loaded\")\n",
    "#Split the data into train and test samples\n",
    "x_train,x_test,y_train,y_test=train_test_split(iris.data,iris.target,test_size=0.1)\n",
    "print(\"Dataset is split into training and testing...\")\n",
    "print(\"Size of training data and its label\",x_train.shape,y_train.shape)\n",
    "print(\"Size of training data and its label\",x_test.shape,y_test.shape)\n",
    "#Prints label number and their names\n",
    "for i in range(len(iris.target_names)):\n",
    "    print(\"Label\",i,\"-\",str(iris.target_names[i]))\n",
    "#Create object of KNN classifier\n",
    "classifier=KNeighborsClassifier(n_neighbors=1)\n",
    "#Perform the training\n",
    "classifier.fit(x_train,y_train)\n",
    "#Perform the testing\n",
    "y_pred=classifier.predict(x_test)\n",
    "#Display the results\n",
    "print(\"Results of classification using K-nn with K=1\")\n",
    "for r in range(0,len(x_test)):\n",
    "    print(\"Sample:\",str(x_test[r]), \"Actual Label:\",str(y_test[r]), \"Predicted label:\",str(y_pred[r]))\n",
    "print(\"Classification Accuracy:\",classifier.score(x_test,y_test)); \n",
    "from sklearn.metrics import classification_report,confusion_matrix\n",
    "from sklearn.metrics import accuracy_score\n",
    "print('Confusion matrix')\n",
    "print(confusion_matrix(y_test,y_pred))\n",
    "print('accuracy Metrics')\n",
    "print(classification_report(y_test,y_pred))\n",
    "print(\"correct prediction\",accuracy_score(y_test,y_pred))\n",
    "print(\"Wrong prediction\",1-accuracy_score(y_test,y_pred))\n",
    "    "
   ]
  },
  {
   "cell_type": "code",
   "execution_count": null,
   "metadata": {},
   "outputs": [],
   "source": []
  },
  {
   "cell_type": "code",
   "execution_count": null,
   "metadata": {},
   "outputs": [],
   "source": []
  },
  {
   "cell_type": "code",
   "execution_count": null,
   "metadata": {},
   "outputs": [],
   "source": []
  }
 ],
 "metadata": {
  "kernelspec": {
   "display_name": "Python 3",
   "language": "python",
   "name": "python3"
  },
  "language_info": {
   "codemirror_mode": {
    "name": "ipython",
    "version": 3
   },
   "file_extension": ".py",
   "mimetype": "text/x-python",
   "name": "python",
   "nbconvert_exporter": "python",
   "pygments_lexer": "ipython3",
   "version": "3.7.0"
  }
 },
 "nbformat": 4,
 "nbformat_minor": 2
}
